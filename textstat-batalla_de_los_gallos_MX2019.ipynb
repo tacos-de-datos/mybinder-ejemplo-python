{
 "cells": [
  {
   "cell_type": "code",
   "execution_count": 1,
   "metadata": {},
   "outputs": [],
   "source": [
    "import textstat\n",
    "import pandas as pd"
   ]
  },
  {
   "cell_type": "code",
   "execution_count": 3,
   "metadata": {},
   "outputs": [],
   "source": [
    "datos = pd.read_csv(\"https://raw.githubusercontent.com/jmtoral/red_bull_mx/master/final_le_sk_rbmex19.csv\", encoding = \"latin-1\")"
   ]
  },
  {
   "cell_type": "code",
   "execution_count": 4,
   "metadata": {},
   "outputs": [
    {
     "data": {
      "text/html": [
       "<div>\n",
       "<style scoped>\n",
       "    .dataframe tbody tr th:only-of-type {\n",
       "        vertical-align: middle;\n",
       "    }\n",
       "\n",
       "    .dataframe tbody tr th {\n",
       "        vertical-align: top;\n",
       "    }\n",
       "\n",
       "    .dataframe thead th {\n",
       "        text-align: right;\n",
       "    }\n",
       "</style>\n",
       "<table border=\"1\" class=\"dataframe\">\n",
       "  <thead>\n",
       "    <tr style=\"text-align: right;\">\n",
       "      <th></th>\n",
       "      <th>etapa</th>\n",
       "      <th>parte</th>\n",
       "      <th>mc</th>\n",
       "      <th>estrofa</th>\n",
       "      <th>verso</th>\n",
       "      <th>contenido</th>\n",
       "    </tr>\n",
       "  </thead>\n",
       "  <tbody>\n",
       "    <tr>\n",
       "      <th>0</th>\n",
       "      <td>Final</td>\n",
       "      <td>minuto temática</td>\n",
       "      <td>lobo estepario</td>\n",
       "      <td>1</td>\n",
       "      <td>1</td>\n",
       "      <td>hoy improviso en esta ocasión te juro que aquí...</td>\n",
       "    </tr>\n",
       "    <tr>\n",
       "      <th>1</th>\n",
       "      <td>Final</td>\n",
       "      <td>minuto temática</td>\n",
       "      <td>lobo estepario</td>\n",
       "      <td>1</td>\n",
       "      <td>2</td>\n",
       "      <td>que tengo versos tan buenos te juro que aquí t...</td>\n",
       "    </tr>\n",
       "    <tr>\n",
       "      <th>2</th>\n",
       "      <td>Final</td>\n",
       "      <td>minuto temática</td>\n",
       "      <td>lobo estepario</td>\n",
       "      <td>1</td>\n",
       "      <td>3</td>\n",
       "      <td>no puedes decir que tú eres las redes sociales</td>\n",
       "    </tr>\n",
       "    <tr>\n",
       "      <th>3</th>\n",
       "      <td>Final</td>\n",
       "      <td>minuto temática</td>\n",
       "      <td>lobo estepario</td>\n",
       "      <td>1</td>\n",
       "      <td>4</td>\n",
       "      <td>porque el día de hoy te caes al igual que toda...</td>\n",
       "    </tr>\n",
       "    <tr>\n",
       "      <th>4</th>\n",
       "      <td>Final</td>\n",
       "      <td>minuto temática</td>\n",
       "      <td>lobo estepario</td>\n",
       "      <td>2</td>\n",
       "      <td>1</td>\n",
       "      <td>quieres hacerlo como yo cabrón</td>\n",
       "    </tr>\n",
       "  </tbody>\n",
       "</table>\n",
       "</div>"
      ],
      "text/plain": [
       "   etapa            parte              mc  estrofa  verso  \\\n",
       "0  Final  minuto temática  lobo estepario        1      1   \n",
       "1  Final  minuto temática  lobo estepario        1      2   \n",
       "2  Final  minuto temática  lobo estepario        1      3   \n",
       "3  Final  minuto temática  lobo estepario        1      4   \n",
       "4  Final  minuto temática  lobo estepario        2      1   \n",
       "\n",
       "                                           contenido  \n",
       "0  hoy improviso en esta ocasión te juro que aquí...  \n",
       "1  que tengo versos tan buenos te juro que aquí t...  \n",
       "2     no puedes decir que tú eres las redes sociales  \n",
       "3  porque el día de hoy te caes al igual que toda...  \n",
       "4                    quieres hacerlo como yo cabrón   "
      ]
     },
     "execution_count": 4,
     "metadata": {},
     "output_type": "execute_result"
    }
   ],
   "source": [
    "datos.head()"
   ]
  },
  {
   "cell_type": "code",
   "execution_count": 7,
   "metadata": {},
   "outputs": [],
   "source": [
    "primera_linea = datos['contenido'][0]"
   ]
  },
  {
   "cell_type": "code",
   "execution_count": 8,
   "metadata": {},
   "outputs": [
    {
     "data": {
      "text/plain": [
       "'hoy improviso en esta ocasión te juro que aquí ya saben'"
      ]
     },
     "execution_count": 8,
     "metadata": {},
     "output_type": "execute_result"
    }
   ],
   "source": [
    "primera_linea"
   ]
  },
  {
   "cell_type": "code",
   "execution_count": 9,
   "metadata": {},
   "outputs": [
    {
     "data": {
      "text/plain": [
       "18"
      ]
     },
     "execution_count": 9,
     "metadata": {},
     "output_type": "execute_result"
    }
   ],
   "source": [
    "textstat.syllable_count(primera_linea, lang='es_ES')"
   ]
  }
 ],
 "metadata": {
  "kernelspec": {
   "display_name": "Python 3",
   "language": "python",
   "name": "python3"
  },
  "language_info": {
   "codemirror_mode": {
    "name": "ipython",
    "version": 3
   },
   "file_extension": ".py",
   "mimetype": "text/x-python",
   "name": "python",
   "nbconvert_exporter": "python",
   "pygments_lexer": "ipython3",
   "version": "3.7.3"
  }
 },
 "nbformat": 4,
 "nbformat_minor": 2
}
